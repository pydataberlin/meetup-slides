{
 "cells": [
  {
   "cell_type": "markdown",
   "metadata": {
    "slideshow": {
     "slide_type": "slide"
    }
   },
   "source": [
    "<center>\n",
    "<img src=./assets/PyDataLogoBerlin_BearOnly_Logo4x3.png width=600 style=\"display:inline\"/>\n",
    "<h2>https://berlin.pydata.org</h2>\n",
    "<h2>@pydataberlin</h2>\n",
    "</center>"
   ]
  },
  {
   "cell_type": "markdown",
   "metadata": {
    "slideshow": {
     "slide_type": "slide"
    }
   },
   "source": [
    "###  Introduction (5 mins)\n",
    "\n",
    "### Talk 1: 30 mins\n",
    "\n",
    "**Trusting your pet project**\n",
    "\n",
    "Filip Danieluk (CBRE)\n",
    "\n",
    "\n",
    "### Talk 2: 30 mins\n",
    "\n",
    "**Uncertainty in Recommender Systems**\n",
    "\n",
    "Bharathi Srinivasan (Comtravo)\n",
    "\n",
    "\n",
    "### Lightning talks\n",
    "\n",
    "**JupyterCon**\n",
    "\n",
    "Jeremy Tuloup, Cristián Maureira-Fredes\n",
    "\n",
    "**Data Science Retreat**\n",
    "\n",
    "Jose Quesada\n"
   ]
  },
  {
   "cell_type": "markdown",
   "metadata": {
    "slideshow": {
     "slide_type": "slide"
    }
   },
   "source": [
    "<center>\n",
    "<h1>https://numfocus.org/code-of-conduct</h1>\n",
    "<img src=./assets/nf-coc-wide.png style=\"display:inline\"/>\n",
    "</center>"
   ]
  },
  {
   "cell_type": "markdown",
   "metadata": {
    "slideshow": {
     "slide_type": "slide"
    }
   },
   "source": [
    "<center>\n",
    "<h1>http://pythonberlinslack.herokuapp.com//</h1>\n",
    "<img src=./assets/pythonberlin.png style=\"display:inline\"/>\n",
    "</center>"
   ]
  },
  {
   "cell_type": "markdown",
   "metadata": {
    "slideshow": {
     "slide_type": "slide"
    }
   },
   "source": [
    "# Event Announcements\n",
    "\n",
    "## dotPy: March 2, 2020 in Paris\n",
    "10% discount code \"PYDATABERLIN\"\n",
    "\n",
    "https://www.dotpy.io/tickets?promocode=PYDATABERLIN\n",
    "\n",
    "\n"
   ]
  },
  {
   "cell_type": "markdown",
   "metadata": {
    "slideshow": {
     "slide_type": "slide"
    }
   },
   "source": [
    "<center>\n",
    "    <img src=./assets/BER2020.png style=\"display:inline\"/>\n",
    "</center>"
   ]
  },
  {
   "cell_type": "markdown",
   "metadata": {
    "slideshow": {
     "slide_type": "notes"
    }
   },
   "source": [
    "<center>\n",
    "    <h1>PyCon DE & PyData Berlin Conference 2020</h1>\n",
    "    <img src=./assets/PyConDEPyDataBER-1800-transparent.png width=600 style=\"display:inline\"/>\n",
    "    <h2>October 14-16 @ bcc</h2>\n",
    "    <h2>https://de.pycon.org</h2>\n",
    "    <h3>CfP & Scholarships are open</h3>\n",
    "    <h4>https://pretalx.com/pyconde-pydata-berlin-2020/cfp</h4>\n",
    "</center>\n",
    "\n",
    "\n"
   ]
  },
  {
   "cell_type": "markdown",
   "metadata": {
    "slideshow": {
     "slide_type": "slide"
    }
   },
   "source": [
    "<center>\n",
    "<img src=./assets/PyDataLogoBerlin_BearOnly_Logo4x3.png width=600 style=\"display:inline\"/>\n",
    "<h2>https://berlin.pydata.org</h2>\n",
    "<h2>@pydataberlin</h2>\n",
    "<h2>info@pydata.berlin</h2>\n",
    "</center>"
   ]
  },
  {
   "cell_type": "code",
   "execution_count": null,
   "metadata": {},
   "outputs": [],
   "source": []
  }
 ],
 "metadata": {
  "celltoolbar": "Slideshow",
  "kernelspec": {
   "display_name": "Python 3",
   "language": "python",
   "name": "python3"
  },
  "language_info": {
   "codemirror_mode": {
    "name": "ipython",
    "version": 3
   },
   "file_extension": ".py",
   "mimetype": "text/x-python",
   "name": "python",
   "nbconvert_exporter": "python",
   "pygments_lexer": "ipython3",
   "version": "3.6.7"
  }
 },
 "nbformat": 4,
 "nbformat_minor": 1
}
