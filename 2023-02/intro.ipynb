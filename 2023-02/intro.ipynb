{
 "cells": [
  {
   "cell_type": "markdown",
   "metadata": {
    "slideshow": {
     "slide_type": "slide"
    }
   },
   "source": [
    "<center>\n",
    "<img src=./assets/PyDataLogoBerlin_BearOnly_Logo4x3.png width=600 style=\"display:inline\"/>\n",
    "<h2>https://berlin.pydata.org</h2>\n",
    "<h2>@pydataberlin</h2>\n",
    "</center>"
   ]
  },
  {
   "cell_type": "markdown",
   "metadata": {
    "slideshow": {
     "slide_type": "slide"
    }
   },
   "source": [
    "![](assets/numfocus.png)"
   ]
  },
  {
   "cell_type": "markdown",
   "metadata": {
    "slideshow": {
     "slide_type": "slide"
    }
   },
   "source": [
    "<center>\n",
    "<h1>https://numfocus.org/code-of-conduct</h1>\n",
    "<img src=./assets/nf-coc-wide.png style=\"display:inline\"/>\n",
    "</center>"
   ]
  },
  {
   "cell_type": "markdown",
   "metadata": {
    "slideshow": {
     "slide_type": "slide"
    }
   },
   "source": [
    "# berlin.pydata.org\n",
    "\n",
    "\n",
    "\n",
    "![](assets/new-website.png)\n",
    "\n",
    "We are also looking for organisers. Come talk to us if you want to participate"
   ]
  },
  {
   "cell_type": "markdown",
   "metadata": {
    "slideshow": {
     "slide_type": "slide"
    }
   },
   "source": [
    "# Conference coming up \n",
    "\n",
    "![](assets/pycon-pydata.png)\n",
    "\n",
    "Call for volonteers is still open! "
   ]
  },
  {
   "cell_type": "markdown",
   "metadata": {
    "slideshow": {
     "slide_type": "slide"
    }
   },
   "source": [
    "###  Our hosts and sponsors:\n",
    "- **GetYourGuide**\n",
    "\n",
    "### 1) Bringing GitOps to ML experiments with dstack (Andrey Cheptsov)\n",
    "\n",
    "\n",
    "##### break\n",
    "\n",
    "\n",
    "### 2) Lightning talk\n",
    "\n",
    " \n",
    "\n",
    "### 3) Using Graph Neural Networks to predict traffic accidents (Anand Deshpande, Jan Meyer, Onur Kerimoglu)\n"
   ]
  },
  {
   "cell_type": "markdown",
   "metadata": {
    "slideshow": {
     "slide_type": "slide"
    }
   },
   "source": [
    "<center>\n",
    "<img src=./assets/PyDataLogoBerlin_BearOnly_Logo4x3.png width=600 style=\"display:inline\"/>\n",
    "<h2>https://berlin.pydata.org</h2>\n",
    "<h2>@pydataberlin</h2>\n",
    "</center>"
   ]
  }
 ],
 "metadata": {
  "celltoolbar": "Slideshow",
  "kernelspec": {
   "display_name": "Python 3 (ipykernel)",
   "language": "python",
   "name": "python3"
  },
  "language_info": {
   "codemirror_mode": {
    "name": "ipython",
    "version": 3
   },
   "file_extension": ".py",
   "mimetype": "text/x-python",
   "name": "python",
   "nbconvert_exporter": "python",
   "pygments_lexer": "ipython3",
   "version": "3.10.5"
  },
  "widgets": {
   "application/vnd.jupyter.widget-state+json": {
    "state": {},
    "version_major": 2,
    "version_minor": 0
   }
  }
 },
 "nbformat": 4,
 "nbformat_minor": 4
}
